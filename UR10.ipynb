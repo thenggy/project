{
  "nbformat": 4,
  "nbformat_minor": 0,
  "metadata": {
    "colab": {
      "name": "UR10.ipynb",
      "provenance": [],
      "collapsed_sections": []
    },
    "kernelspec": {
      "name": "python3",
      "display_name": "Python 3"
    },
    "language_info": {
      "name": "python"
    }
  },
  "cells": [
    {
      "cell_type": "code",
      "source": [
        "#Forward Kinematic\n",
        "import numpy as np\n",
        "\n",
        "def DH(theta_n ,a_n, d_n, alpha_n):\n",
        "  H=np.array([[np.cos(theta_n), -np.sin(theta_n)*np.cos(alpha_n), np.sin(theta_n)*np.sin(alpha_n), a_n*np.cos(theta_n)],\n",
        "              [np.sin(theta_n), np.cos(theta_n)*np.cos(alpha_n), -np.cos(theta_n)*np.sin(alpha_n), a_n*np.sin(theta_n)],\n",
        "              [0, np.sin(alpha_n), np.cos(alpha_n), d_n],\n",
        "              [0, 0, 0, 1]])\n",
        "  return H"
      ],
      "metadata": {
        "id": "A4ZKpGXk0bvv"
      },
      "execution_count": 2,
      "outputs": []
    },
    {
      "cell_type": "code",
      "source": [
        "H1 = DH(np.pi/3,0.08920,0,np.pi/2)\n",
        "\n",
        "H2 = DH(np.pi/3,0,0.425,0)\n",
        "\n",
        "H3 = DH(np.pi/4,0,0.392,0)\n",
        "\n",
        "H4 = DH(np.pi/4,0.10930,0,-np.pi/2)\n",
        "\n",
        "H5 = DH(np.pi/3,0.09475,0,np.pi/2)\n",
        "\n",
        "H6 = DH(np.pi/3,0.08250,0,0)\n",
        "\n",
        "H = np.dot(np.dot(np.dot(np.dot(np.dot(H1,H2),H3),H4),H5),H6)\n",
        "\n",
        "H"
      ],
      "metadata": {
        "colab": {
          "base_uri": "https://localhost:8080/"
        },
        "id": "oYVswSqt04q8",
        "outputId": "96f4fb2f-67f6-4314-b941-124499c555fe"
      },
      "execution_count": 4,
      "outputs": [
        {
          "output_type": "execute_result",
          "data": {
            "text/plain": [
              "array([[ 0.8652594 ,  0.48845783, -0.11284996, -0.67445741],\n",
              "       [-0.49366345,  0.86937185, -0.02211302,  0.61654639],\n",
              "       [ 0.0873073 ,  0.0748434 ,  0.99336595,  1.64119673],\n",
              "       [ 0.        ,  0.        ,  0.        ,  1.        ]])"
            ]
          },
          "metadata": {},
          "execution_count": 4
        }
      ]
    },
    {
      "cell_type": "code",
      "execution_count": 1,
      "metadata": {
        "colab": {
          "base_uri": "https://localhost:8080/"
        },
        "id": "3bvldFQJ0IoP",
        "outputId": "9b3c1276-8586-465e-c947-a6902a554db4"
      },
      "outputs": [
        {
          "output_type": "stream",
          "name": "stdout",
          "text": [
            "0.4636476090008061\n",
            "[[ 0.4472136  -0.89442719  0.        ]\n",
            " [ 0.          0.          1.        ]\n",
            " [-0.89442719 -0.4472136   0.        ]]\n",
            "1.5707963267948966\n",
            "0.46364760900080615\n",
            "0.0\n",
            "[[-4.47213595e-01 -8.94427191e-01 -0.00000000e+00]\n",
            " [ 5.47678698e-17 -2.73839349e-17  1.00000000e+00]\n",
            " [-8.94427191e-01  4.47213595e-01  6.12323400e-17]]\n"
          ]
        }
      ],
      "source": [
        "#Inverse Kinematic\n",
        "import numpy as np \n",
        "x = 4\n",
        "y = 2\n",
        "# Calculate the angle of the second joint\n",
        "theta_2 = np.arctan2(y,x)\n",
        "print(theta_2)\n",
        "# The 3x3 rotation matrix of frame 6 relative to frame 0\n",
        "rot_mat_0_6 = np.array([[-1, 0, 0],\n",
        "                        [0, -1, 0],\n",
        "                        [0, 0, 1]])\n",
        "# The 3x3 rotation matrix of frame 3 relative to frame 0\n",
        "rot_mat_0_3 = np.array([[-np.sin(theta_2), 0, np.cos(theta_2)],\n",
        "                        [np.cos(theta_2), 0, np.sin(theta_2)],\n",
        "                        [0, 1, 0]])\n",
        "# Calculate the inverse rotation matrix\n",
        "inv_rot_mat_0_3 = np.linalg.inv(rot_mat_0_3)\n",
        " \n",
        "# Calculate the 3x3 rotation matrix of frame 6 relative to frame 3\n",
        "rot_mat_3_6 = (inv_rot_mat_0_3).dot(rot_mat_0_6)\n",
        "print(rot_mat_3_6)\n",
        "# Calculate the value for theta_5\n",
        "theta_5 = np.arccos(rot_mat_3_6[2, 2])\n",
        "print(theta_5)\n",
        " \n",
        "# Calculate the value for theta_6\n",
        "# -sin(theta_5)cos(theta_6) = rot_mat_3_6[2,0]\n",
        "# Solving for theta_6...\n",
        "# rot_mat_3_6[2,0]/-sin(theta_5) = cos(theta_6)\n",
        "# arccosine(rot_mat_3_6[2,0]/-sin(theta_5)) = theta_6\n",
        "theta_6 = np.arccos(rot_mat_3_6[2, 0] / -np.sin(theta_5))\n",
        "print(theta_6)\n",
        "\n",
        "# Calculate the value for theta_4 using one of the other\n",
        "# cells in rot_mat_3_6. We'll use the second row, third column.\n",
        "# cos(theta_4)sin(theta_5) = rot_mat_3_6[1,2]\n",
        "# cos(theta_4) = rot_mat_3_6[1,2] / sin(theta_5)\n",
        "# theta_4 = arccosine(rot_mat_3_6[1,2] / sin(theta_5))\n",
        "theta_4 = np.arccos(rot_mat_3_6[1,2] / np.sin(theta_5))\n",
        "print(theta_4)\n",
        "\n",
        "\n",
        "r11 = -np.sin(theta_4) * np.cos(theta_5) * np.cos(theta_6) - np.cos(theta_4) * np.sin(theta_6)\n",
        "r12 = np.sin(theta_4) * np.cos(theta_5) * np.sin(theta_6) - np.cos(theta_4) * np.cos(theta_6)\n",
        "r13 = -np.sin(theta_4) * np.sin(theta_5)\n",
        "r21 = np.cos(theta_4) * np.cos(theta_5) * np.cos(theta_6) - np.sin(theta_4) * np.sin(theta_6)\n",
        "r22 = -np.cos(theta_4) * np.cos(theta_5) * np.sin(theta_6) - np.sin(theta_4) * np.cos(theta_6)\n",
        "r23 = np.cos(theta_4) * np.sin(theta_5)\n",
        "r31 = -np.sin(theta_5) * np.cos(theta_6)\n",
        "r32 = np.sin(theta_5) * np.sin(theta_6)\n",
        "r33 = np.cos(theta_5)\n",
        " \n",
        "rot_mat_3_6 = np.array([[r11, r12, r13],\n",
        "                        [r21, r22, r23],\n",
        "                        [r31, r32, r33]])\n",
        "\n",
        "print(rot_mat_3_6)"
      ]
    }
  ]
}